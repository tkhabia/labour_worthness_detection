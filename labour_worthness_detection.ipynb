{
  "nbformat": 4,
  "nbformat_minor": 0,
  "metadata": {
    "kernelspec": {
      "display_name": "Python 3",
      "language": "python",
      "name": "python3"
    },
    "language_info": {
      "codemirror_mode": {
        "name": "ipython",
        "version": 3
      },
      "file_extension": ".py",
      "mimetype": "text/x-python",
      "name": "python",
      "nbconvert_exporter": "python",
      "pygments_lexer": "ipython3",
      "version": "3.8.2"
    },
    "colab": {
      "name": "labour worthness detection",
      "provenance": [],
      "collapsed_sections": [],
      "toc_visible": true,
      "include_colab_link": true
    }
  },
  "cells": [
    {
      "cell_type": "markdown",
      "metadata": {
        "id": "view-in-github",
        "colab_type": "text"
      },
      "source": [
        "<a href=\"https://colab.research.google.com/github/tkhabia/labour_worthness_detection/blob/master/labour_worthness_detection.ipynb\" target=\"_parent\"><img src=\"https://colab.research.google.com/assets/colab-badge.svg\" alt=\"Open In Colab\"/></a>"
      ]
    },
    {
      "cell_type": "markdown",
      "metadata": {
        "id": "wruH-ZIQGQbd",
        "colab_type": "text"
      },
      "source": [
        "![AIcrowd-Logo](https://raw.githubusercontent.com/AIcrowd/AIcrowd/master/app/assets/images/misc/aicrowd-horizontal.png)"
      ]
    },
    {
      "cell_type": "markdown",
      "metadata": {
        "id": "m0eWi5QBGQbf",
        "colab_type": "text"
      },
      "source": [
        "# Baseline for [LABOR Challenge](www.aicrowd.com/challenges/labor) on AIcrowd\n",
        "#### Author : Faizan Farooq Khan"
      ]
    },
    {
      "cell_type": "markdown",
      "metadata": {
        "id": "-XbYRDU3GQbf",
        "colab_type": "text"
      },
      "source": [
        "## Download Necessary Packages 📚"
      ]
    },
    {
      "cell_type": "code",
      "metadata": {
        "id": "JcxsqlHTGQbg",
        "colab_type": "code",
        "colab": {
          "base_uri": "https://localhost:8080/",
          "height": 187
        },
        "outputId": "39828c3b-35ae-4b21-b978-93dc79492414"
      },
      "source": [
        "!pip install numpy\n",
        "!pip install pandas\n",
        "!pip install scikit-learn"
      ],
      "execution_count": 1,
      "outputs": [
        {
          "output_type": "stream",
          "text": [
            "Requirement already satisfied: numpy in /usr/local/lib/python3.6/dist-packages (1.18.5)\n",
            "Requirement already satisfied: pandas in /usr/local/lib/python3.6/dist-packages (1.0.5)\n",
            "Requirement already satisfied: numpy>=1.13.3 in /usr/local/lib/python3.6/dist-packages (from pandas) (1.18.5)\n",
            "Requirement already satisfied: pytz>=2017.2 in /usr/local/lib/python3.6/dist-packages (from pandas) (2018.9)\n",
            "Requirement already satisfied: python-dateutil>=2.6.1 in /usr/local/lib/python3.6/dist-packages (from pandas) (2.8.1)\n",
            "Requirement already satisfied: six>=1.5 in /usr/local/lib/python3.6/dist-packages (from python-dateutil>=2.6.1->pandas) (1.15.0)\n",
            "Requirement already satisfied: scikit-learn in /usr/local/lib/python3.6/dist-packages (0.22.2.post1)\n",
            "Requirement already satisfied: numpy>=1.11.0 in /usr/local/lib/python3.6/dist-packages (from scikit-learn) (1.18.5)\n",
            "Requirement already satisfied: scipy>=0.17.0 in /usr/local/lib/python3.6/dist-packages (from scikit-learn) (1.4.1)\n",
            "Requirement already satisfied: joblib>=0.11 in /usr/local/lib/python3.6/dist-packages (from scikit-learn) (0.16.0)\n"
          ],
          "name": "stdout"
        }
      ]
    },
    {
      "cell_type": "markdown",
      "metadata": {
        "id": "-tErJMFgGQbl",
        "colab_type": "text"
      },
      "source": [
        "## Download Data\n",
        "The first step is to download out train test data. We will be training a model on the train data and make predictions on test data. We submit our predictions\n"
      ]
    },
    {
      "cell_type": "code",
      "metadata": {
        "id": "u72fnzqXGQbm",
        "colab_type": "code",
        "colab": {
          "base_uri": "https://localhost:8080/",
          "height": 391
        },
        "outputId": "81cd343a-ed62-47c7-fb1c-2708e517942f"
      },
      "source": [
        "#Donwload the datasets\n",
        "!rm -rf data\n",
        "!mkdir data \n",
        "!wget https://s3.eu-central-1.wasabisys.com/aicrowd-practice-challenges/public/labor/v0.1/test.csv\n",
        "!wget https://s3.eu-central-1.wasabisys.com/aicrowd-practice-challenges/public/labor/v0.1/train.csv\n",
        "!mv test.csv data/test.csv\n",
        "!mv train.csv data/train.csv"
      ],
      "execution_count": 2,
      "outputs": [
        {
          "output_type": "stream",
          "text": [
            "--2020-07-24 13:56:21--  https://s3.eu-central-1.wasabisys.com/aicrowd-practice-challenges/public/labor/v0.1/test.csv\n",
            "Resolving s3.eu-central-1.wasabisys.com (s3.eu-central-1.wasabisys.com)... 130.117.252.17, 130.117.252.12, 130.117.252.16, ...\n",
            "Connecting to s3.eu-central-1.wasabisys.com (s3.eu-central-1.wasabisys.com)|130.117.252.17|:443... connected.\n",
            "HTTP request sent, awaiting response... 200 OK\n",
            "Length: 554341 (541K) [text/csv]\n",
            "Saving to: ‘test.csv’\n",
            "\n",
            "test.csv            100%[===================>] 541.35K   798KB/s    in 0.7s    \n",
            "\n",
            "2020-07-24 13:56:23 (798 KB/s) - ‘test.csv’ saved [554341/554341]\n",
            "\n",
            "--2020-07-24 13:56:25--  https://s3.eu-central-1.wasabisys.com/aicrowd-practice-challenges/public/labor/v0.1/train.csv\n",
            "Resolving s3.eu-central-1.wasabisys.com (s3.eu-central-1.wasabisys.com)... 130.117.252.12, 130.117.252.17, 130.117.252.10, ...\n",
            "Connecting to s3.eu-central-1.wasabisys.com (s3.eu-central-1.wasabisys.com)|130.117.252.12|:443... connected.\n",
            "HTTP request sent, awaiting response... 200 OK\n",
            "Length: 1803530 (1.7M) [text/csv]\n",
            "Saving to: ‘train.csv’\n",
            "\n",
            "train.csv           100%[===================>]   1.72M  1.83MB/s    in 0.9s    \n",
            "\n",
            "2020-07-24 13:56:26 (1.83 MB/s) - ‘train.csv’ saved [1803530/1803530]\n",
            "\n"
          ],
          "name": "stdout"
        }
      ]
    },
    {
      "cell_type": "markdown",
      "metadata": {
        "id": "Pmy1r6DJGQbq",
        "colab_type": "text"
      },
      "source": [
        "\n",
        "## Import packages"
      ]
    },
    {
      "cell_type": "code",
      "metadata": {
        "id": "DqnZpTzqGQbr",
        "colab_type": "code",
        "colab": {}
      },
      "source": [
        "import pandas as pd\n",
        "import numpy as np\n",
        "from sklearn.model_selection import train_test_split\n",
        "from sklearn.linear_model import LogisticRegression\n",
        "from sklearn.neural_network import MLPClassifier\n",
        "from sklearn.svm import SVC\n",
        "from sklearn.metrics import f1_score,precision_score,recall_score,accuracy_score\n"
      ],
      "execution_count": 3,
      "outputs": []
    },
    {
      "cell_type": "markdown",
      "metadata": {
        "id": "I_mjPiD0GQbu",
        "colab_type": "text"
      },
      "source": [
        "## Load Data\n",
        "- We use pandas 🐼 library to load our data.   \n",
        "- Pandas loads the data into dataframes and facilitates us to analyse the data.   \n",
        "- Learn more about it [here](https://www.tutorialspoint.com/python_data_science/python_pandas.htm) 🤓"
      ]
    },
    {
      "cell_type": "code",
      "metadata": {
        "id": "yY3p4kUGGQbv",
        "colab_type": "code",
        "colab": {}
      },
      "source": [
        "all_data_path = \"data/train.csv\" #path where data is stored"
      ],
      "execution_count": 4,
      "outputs": []
    },
    {
      "cell_type": "code",
      "metadata": {
        "id": "nK6xdESVGQby",
        "colab_type": "code",
        "colab": {}
      },
      "source": [
        "all_data = pd.read_csv(all_data_path) #load data in dataframe using pandas"
      ],
      "execution_count": 5,
      "outputs": []
    },
    {
      "cell_type": "markdown",
      "metadata": {
        "id": "OjCpqhz2GQb4",
        "colab_type": "text"
      },
      "source": [
        "## Visualize the data 👀"
      ]
    },
    {
      "cell_type": "code",
      "metadata": {
        "id": "ZyAvrkBoGQb5",
        "colab_type": "code",
        "colab": {
          "base_uri": "https://localhost:8080/",
          "height": 275
        },
        "outputId": "96bee6df-9bc2-4cfe-f96f-47c4f0c567df"
      },
      "source": [
        "all_data.head()"
      ],
      "execution_count": 6,
      "outputs": [
        {
          "output_type": "execute_result",
          "data": {
            "text/html": [
              "<div>\n",
              "<style scoped>\n",
              "    .dataframe tbody tr th:only-of-type {\n",
              "        vertical-align: middle;\n",
              "    }\n",
              "\n",
              "    .dataframe tbody tr th {\n",
              "        vertical-align: top;\n",
              "    }\n",
              "\n",
              "    .dataframe thead th {\n",
              "        text-align: right;\n",
              "    }\n",
              "</style>\n",
              "<table border=\"1\" class=\"dataframe\">\n",
              "  <thead>\n",
              "    <tr style=\"text-align: right;\">\n",
              "      <th></th>\n",
              "      <th>duration</th>\n",
              "      <th>wage-increase-first-year</th>\n",
              "      <th>wage-increase-second-year</th>\n",
              "      <th>wage-increase-third-year</th>\n",
              "      <th>cost-of-living-adjustment</th>\n",
              "      <th>working-hours</th>\n",
              "      <th>pension</th>\n",
              "      <th>standby-pay</th>\n",
              "      <th>shift-differential</th>\n",
              "      <th>education-allowance</th>\n",
              "      <th>statutory-holidays</th>\n",
              "      <th>vacation</th>\n",
              "      <th>longterm-disability-assistance</th>\n",
              "      <th>contribution-to-dental-plan</th>\n",
              "      <th>bereavement-assistance</th>\n",
              "      <th>contribution-to-health-plan</th>\n",
              "      <th>class</th>\n",
              "    </tr>\n",
              "  </thead>\n",
              "  <tbody>\n",
              "    <tr>\n",
              "      <th>0</th>\n",
              "      <td>3</td>\n",
              "      <td>3.597483</td>\n",
              "      <td>4.000000</td>\n",
              "      <td>5.000000</td>\n",
              "      <td>0</td>\n",
              "      <td>40.000000</td>\n",
              "      <td>2</td>\n",
              "      <td>8.32238</td>\n",
              "      <td>3.0</td>\n",
              "      <td>0</td>\n",
              "      <td>11.0</td>\n",
              "      <td>0</td>\n",
              "      <td>1</td>\n",
              "      <td>1</td>\n",
              "      <td>1</td>\n",
              "      <td>2</td>\n",
              "      <td>1</td>\n",
              "    </tr>\n",
              "    <tr>\n",
              "      <th>1</th>\n",
              "      <td>3</td>\n",
              "      <td>3.968619</td>\n",
              "      <td>4.000000</td>\n",
              "      <td>5.100000</td>\n",
              "      <td>1</td>\n",
              "      <td>40.000000</td>\n",
              "      <td>2</td>\n",
              "      <td>2.00000</td>\n",
              "      <td>3.0</td>\n",
              "      <td>0</td>\n",
              "      <td>12.0</td>\n",
              "      <td>1</td>\n",
              "      <td>1</td>\n",
              "      <td>2</td>\n",
              "      <td>1</td>\n",
              "      <td>2</td>\n",
              "      <td>1</td>\n",
              "    </tr>\n",
              "    <tr>\n",
              "      <th>2</th>\n",
              "      <td>2</td>\n",
              "      <td>6.328544</td>\n",
              "      <td>5.089680</td>\n",
              "      <td>5.000000</td>\n",
              "      <td>0</td>\n",
              "      <td>35.915468</td>\n",
              "      <td>2</td>\n",
              "      <td>2.00000</td>\n",
              "      <td>4.0</td>\n",
              "      <td>0</td>\n",
              "      <td>12.0</td>\n",
              "      <td>1</td>\n",
              "      <td>1</td>\n",
              "      <td>1</td>\n",
              "      <td>1</td>\n",
              "      <td>2</td>\n",
              "      <td>1</td>\n",
              "    </tr>\n",
              "    <tr>\n",
              "      <th>3</th>\n",
              "      <td>2</td>\n",
              "      <td>4.348288</td>\n",
              "      <td>5.336979</td>\n",
              "      <td>5.000000</td>\n",
              "      <td>0</td>\n",
              "      <td>37.651356</td>\n",
              "      <td>2</td>\n",
              "      <td>2.00000</td>\n",
              "      <td>3.0</td>\n",
              "      <td>0</td>\n",
              "      <td>15.0</td>\n",
              "      <td>1</td>\n",
              "      <td>1</td>\n",
              "      <td>2</td>\n",
              "      <td>1</td>\n",
              "      <td>2</td>\n",
              "      <td>1</td>\n",
              "    </tr>\n",
              "    <tr>\n",
              "      <th>4</th>\n",
              "      <td>2</td>\n",
              "      <td>3.530789</td>\n",
              "      <td>2.892247</td>\n",
              "      <td>2.029438</td>\n",
              "      <td>0</td>\n",
              "      <td>40.000000</td>\n",
              "      <td>2</td>\n",
              "      <td>2.00000</td>\n",
              "      <td>4.0</td>\n",
              "      <td>0</td>\n",
              "      <td>11.0</td>\n",
              "      <td>1</td>\n",
              "      <td>1</td>\n",
              "      <td>1</td>\n",
              "      <td>1</td>\n",
              "      <td>2</td>\n",
              "      <td>1</td>\n",
              "    </tr>\n",
              "  </tbody>\n",
              "</table>\n",
              "</div>"
            ],
            "text/plain": [
              "   duration  wage-increase-first-year  ...  contribution-to-health-plan  class\n",
              "0         3                  3.597483  ...                            2      1\n",
              "1         3                  3.968619  ...                            2      1\n",
              "2         2                  6.328544  ...                            2      1\n",
              "3         2                  4.348288  ...                            2      1\n",
              "4         2                  3.530789  ...                            2      1\n",
              "\n",
              "[5 rows x 17 columns]"
            ]
          },
          "metadata": {
            "tags": []
          },
          "execution_count": 6
        }
      ]
    },
    {
      "cell_type": "markdown",
      "metadata": {
        "id": "9fmhnXbtGQb8",
        "colab_type": "text"
      },
      "source": [
        "We can see the dataset contains 17 columns,where columns 1-16 denotes the information about the labor and the last column tell whether he is in good(1) class or bad(0) classsubcribed the service or not."
      ]
    },
    {
      "cell_type": "markdown",
      "metadata": {
        "id": "cp2KQbpFGQb9",
        "colab_type": "text"
      },
      "source": [
        "## Split Data into Train and Validation 🔪\n",
        "-  The next step is to think of a way to test how well our model is performing. we cannot use the test data given as it does not contain the data labels for us to verify.    \n",
        "- The workaround this is to split the given training data into training and validation. Typically validation sets give us an idea of how our model will perform on unforeseen data. it is like holding back a chunk of data while training our model and then using it to for the purpose of testing. it is a standard way to fine-tune hyperparameters in a model.    \n",
        "- There are multiple ways to split a dataset into validation and training sets. following are two popular ways to go about it, [k-fold](https://machinelearningmastery.com/k-fold-cross-validation/), [leave one out](https://en.wikipedia.org/wiki/Cross-validation_statistics). 🧐\n",
        "- Validation sets are also used to avoid your model from [overfitting](https://machinelearningmastery.com/overfitting-and-underfitting-with-machine-learning-algorithms/) on the train dataset."
      ]
    },
    {
      "cell_type": "code",
      "metadata": {
        "id": "bpa-oGq8GQb-",
        "colab_type": "code",
        "colab": {}
      },
      "source": [
        "X_train, X_val= train_test_split(all_data, test_size=0.2, random_state=42) "
      ],
      "execution_count": 7,
      "outputs": []
    },
    {
      "cell_type": "markdown",
      "metadata": {
        "id": "uAIr0Hz9GQcB",
        "colab_type": "text"
      },
      "source": [
        "- We have decided to split the data with 20 % as validation and 80 % as training.  \n",
        "- To learn more about the train_test_split function [click here](https://scikit-learn.org/stable/modules/generated/sklearn.model_selection.train_test_split.html). 🧐  \n",
        "- This is of course the simplest way to validate your model by simply taking a random chunk of the train set and setting it aside solely for the purpose of testing our train model on unseen data. as mentioned in the previous block, you can experiment 🔬 with and choose more sophisticated techniques and make your model better."
      ]
    },
    {
      "cell_type": "markdown",
      "metadata": {
        "id": "rgSKvRYyGQcC",
        "colab_type": "text"
      },
      "source": [
        "- Now, since we have our data splitted into train and validation sets, we need to get the corresponding labels separated from the data.   \n",
        "- with this step we are all set move to the next step with a prepared dataset."
      ]
    },
    {
      "cell_type": "code",
      "metadata": {
        "id": "b4CmHOb8GQcC",
        "colab_type": "code",
        "colab": {}
      },
      "source": [
        "X_train,y_train = X_train.iloc[:,:-1],X_train.iloc[:,-1]\n",
        "X_val,y_val = X_val.iloc[:,:-1],X_val.iloc[:,-1]"
      ],
      "execution_count": 8,
      "outputs": []
    },
    {
      "cell_type": "code",
      "metadata": {
        "id": "E4iY_qL6tffz",
        "colab_type": "code",
        "colab": {
          "base_uri": "https://localhost:8080/",
          "height": 34
        },
        "outputId": "f543a6c5-a2ee-4950-bdfb-3d0a18c40a7a"
      },
      "source": [
        "feature_name = X_train.columns\n",
        "print(len(feature_name))"
      ],
      "execution_count": 9,
      "outputs": [
        {
          "output_type": "stream",
          "text": [
            "16\n"
          ],
          "name": "stdout"
        }
      ]
    },
    {
      "cell_type": "code",
      "metadata": {
        "id": "JJiAmd2IJwXG",
        "colab_type": "code",
        "colab": {
          "base_uri": "https://localhost:8080/",
          "height": 664
        },
        "outputId": "deed94f6-24c8-43cd-adcd-dafad1db4c9e"
      },
      "source": [
        "total_features = 16\n",
        "num_feats = 11\n",
        "\n",
        "#################################################################\n",
        "\n",
        "def cor_selector(X, y,num_feats):\n",
        "    cor_list = []\n",
        "    feature_name = X.columns.tolist()\n",
        "    # calculate the correlation with y for each feature\n",
        "    for i in X.columns.tolist():\n",
        "        cor = np.corrcoef(X[i], y)[0, 1]\n",
        "        cor_list.append(cor)\n",
        "    # replace NaN with 0\n",
        "    cor_list = [0 if np.isnan(i) else i for i in cor_list]\n",
        "    # feature name\n",
        "    cor_feature = X.iloc[:,np.argsort(np.abs(cor_list))[-num_feats:]].columns.tolist()\n",
        "    # feature selection? 0 for not select, 1 for select\n",
        "    cor_support = [True if i in cor_feature else False for i in feature_name]\n",
        "    return cor_support, cor_feature\n",
        "cor_support, cor_feature = cor_selector(X_train, y_train,num_feats)\n",
        "print(str(len(cor_feature)), 'selected features')\n",
        "\n",
        "\n",
        "###############################\n",
        "#che square \n",
        "from sklearn.feature_selection import SelectKBest\n",
        "from sklearn.feature_selection import chi2\n",
        "from sklearn.preprocessing import MinMaxScaler\n",
        "X_norm = MinMaxScaler().fit_transform(X_train)\n",
        "chi_selector = SelectKBest(chi2, k=num_feats)\n",
        "chi_selector.fit(X_norm, y_train)\n",
        "chi_support = chi_selector.get_support()\n",
        "chi_feature = X_train.loc[:,chi_support].columns.tolist()\n",
        "print(str(len(chi_feature)), 'selected features')\n",
        "#################################################\n",
        "#recursive feature elimination\n",
        "from sklearn.feature_selection import RFE\n",
        "from sklearn.linear_model import LogisticRegression\n",
        "rfe_selector = RFE(estimator=LogisticRegression(), n_features_to_select=num_feats, step=10, verbose=5)\n",
        "rfe_selector.fit(X_norm, y_train)\n",
        "rfe_support = rfe_selector.get_support()\n",
        "rfe_feature = X_train.loc[:,rfe_support].columns.tolist()\n",
        "print(str(len(rfe_feature)), 'selected features')\n",
        "##################################################\n",
        "#LASSO SELECT FROM MODEL\n",
        "from sklearn.feature_selection import SelectFromModel\n",
        "from sklearn.linear_model import LogisticRegression\n",
        "\n",
        "embeded_lr_selector = SelectFromModel(LogisticRegression(penalty=\"l2\"), max_features=num_feats)\n",
        "embeded_lr_selector.fit(X_norm, y_train)\n",
        "\n",
        "embeded_lr_support = embeded_lr_selector.get_support()\n",
        "embeded_lr_feature = X_train.loc[:,embeded_lr_support].columns.tolist()\n",
        "print(str(len(embeded_lr_feature)), 'selected features')\n",
        "###################################################\n",
        "#Tree-based: SelectFromModel\n",
        "from sklearn.feature_selection import SelectFromModel\n",
        "from sklearn.ensemble import RandomForestClassifier\n",
        "\n",
        "embeded_rf_selector = SelectFromModel(RandomForestClassifier(n_estimators=100), max_features=num_feats)\n",
        "embeded_rf_selector.fit(X_train, y_train)\n",
        "\n",
        "embeded_rf_support = embeded_rf_selector.get_support()\n",
        "embeded_rf_feature = X_train.loc[:,embeded_rf_support].columns.tolist()\n",
        "print(str(len(embeded_rf_feature)), 'selected features')\n",
        "##########################################3##########\n",
        "#LightGBM\n",
        "\n",
        "from sklearn.feature_selection import SelectFromModel\n",
        "from lightgbm import LGBMClassifier\n",
        "\n",
        "lgbc=LGBMClassifier(n_estimators=500, learning_rate=0.05, num_leaves=32, colsample_bytree=0.2,\n",
        "            reg_alpha=3, reg_lambda=1, min_split_gain=0.01, min_child_weight=40)\n",
        "\n",
        "embeded_lgb_selector = SelectFromModel(lgbc, max_features=num_feats)\n",
        "embeded_lgb_selector.fit(X_train, y_train)\n",
        "\n",
        "embeded_lgb_support = embeded_lgb_selector.get_support()\n",
        "embeded_lgb_feature = X_train.loc[:,embeded_lgb_support].columns.tolist()\n",
        "print(str(len(embeded_lgb_feature)), 'selected features')\n",
        "\n",
        "#######################################\n",
        "## all combined \n",
        "\n",
        "feature_selection_df = pd.DataFrame({'Feature':feature_name, 'Pearson':cor_support, 'Chi-2':chi_support, 'RFE':rfe_support, 'Logistics':embeded_lr_support,\n",
        "                                    'Random Forest':embeded_rf_support, 'LightGBM':embeded_lgb_support})\n",
        "# count the selected times for each feature\n",
        "feature_selection_df['Total'] = np.sum(feature_selection_df, axis=1)\n",
        "# display the top 100\n",
        "feature_selection_df = feature_selection_df.sort_values(['Total','Feature'] , ascending=False)\n",
        "feature_selection_df.index = range(1, len(feature_selection_df)+1)\n",
        "feature_selection_df.head(total_features)\n"
      ],
      "execution_count": 10,
      "outputs": [
        {
          "output_type": "stream",
          "text": [
            "11 selected features\n",
            "11 selected features\n",
            "Fitting estimator with 16 features.\n",
            "11 selected features\n",
            "8 selected features\n",
            "6 selected features\n",
            "5 selected features\n"
          ],
          "name": "stdout"
        },
        {
          "output_type": "execute_result",
          "data": {
            "text/html": [
              "<div>\n",
              "<style scoped>\n",
              "    .dataframe tbody tr th:only-of-type {\n",
              "        vertical-align: middle;\n",
              "    }\n",
              "\n",
              "    .dataframe tbody tr th {\n",
              "        vertical-align: top;\n",
              "    }\n",
              "\n",
              "    .dataframe thead th {\n",
              "        text-align: right;\n",
              "    }\n",
              "</style>\n",
              "<table border=\"1\" class=\"dataframe\">\n",
              "  <thead>\n",
              "    <tr style=\"text-align: right;\">\n",
              "      <th></th>\n",
              "      <th>Feature</th>\n",
              "      <th>Pearson</th>\n",
              "      <th>Chi-2</th>\n",
              "      <th>RFE</th>\n",
              "      <th>Logistics</th>\n",
              "      <th>Random Forest</th>\n",
              "      <th>LightGBM</th>\n",
              "      <th>Total</th>\n",
              "    </tr>\n",
              "  </thead>\n",
              "  <tbody>\n",
              "    <tr>\n",
              "      <th>1</th>\n",
              "      <td>wage-increase-first-year</td>\n",
              "      <td>True</td>\n",
              "      <td>True</td>\n",
              "      <td>True</td>\n",
              "      <td>True</td>\n",
              "      <td>True</td>\n",
              "      <td>True</td>\n",
              "      <td>6</td>\n",
              "    </tr>\n",
              "    <tr>\n",
              "      <th>2</th>\n",
              "      <td>statutory-holidays</td>\n",
              "      <td>True</td>\n",
              "      <td>True</td>\n",
              "      <td>True</td>\n",
              "      <td>True</td>\n",
              "      <td>True</td>\n",
              "      <td>False</td>\n",
              "      <td>5</td>\n",
              "    </tr>\n",
              "    <tr>\n",
              "      <th>3</th>\n",
              "      <td>pension</td>\n",
              "      <td>True</td>\n",
              "      <td>True</td>\n",
              "      <td>True</td>\n",
              "      <td>True</td>\n",
              "      <td>True</td>\n",
              "      <td>False</td>\n",
              "      <td>5</td>\n",
              "    </tr>\n",
              "    <tr>\n",
              "      <th>4</th>\n",
              "      <td>longterm-disability-assistance</td>\n",
              "      <td>True</td>\n",
              "      <td>True</td>\n",
              "      <td>True</td>\n",
              "      <td>True</td>\n",
              "      <td>True</td>\n",
              "      <td>False</td>\n",
              "      <td>5</td>\n",
              "    </tr>\n",
              "    <tr>\n",
              "      <th>5</th>\n",
              "      <td>contribution-to-dental-plan</td>\n",
              "      <td>True</td>\n",
              "      <td>True</td>\n",
              "      <td>True</td>\n",
              "      <td>True</td>\n",
              "      <td>True</td>\n",
              "      <td>False</td>\n",
              "      <td>5</td>\n",
              "    </tr>\n",
              "    <tr>\n",
              "      <th>6</th>\n",
              "      <td>working-hours</td>\n",
              "      <td>True</td>\n",
              "      <td>False</td>\n",
              "      <td>True</td>\n",
              "      <td>True</td>\n",
              "      <td>False</td>\n",
              "      <td>True</td>\n",
              "      <td>4</td>\n",
              "    </tr>\n",
              "    <tr>\n",
              "      <th>7</th>\n",
              "      <td>wage-increase-third-year</td>\n",
              "      <td>True</td>\n",
              "      <td>False</td>\n",
              "      <td>True</td>\n",
              "      <td>True</td>\n",
              "      <td>False</td>\n",
              "      <td>True</td>\n",
              "      <td>4</td>\n",
              "    </tr>\n",
              "    <tr>\n",
              "      <th>8</th>\n",
              "      <td>wage-increase-second-year</td>\n",
              "      <td>True</td>\n",
              "      <td>True</td>\n",
              "      <td>True</td>\n",
              "      <td>False</td>\n",
              "      <td>False</td>\n",
              "      <td>True</td>\n",
              "      <td>4</td>\n",
              "    </tr>\n",
              "    <tr>\n",
              "      <th>9</th>\n",
              "      <td>shift-differential</td>\n",
              "      <td>False</td>\n",
              "      <td>False</td>\n",
              "      <td>True</td>\n",
              "      <td>True</td>\n",
              "      <td>False</td>\n",
              "      <td>True</td>\n",
              "      <td>3</td>\n",
              "    </tr>\n",
              "    <tr>\n",
              "      <th>10</th>\n",
              "      <td>contribution-to-health-plan</td>\n",
              "      <td>True</td>\n",
              "      <td>True</td>\n",
              "      <td>False</td>\n",
              "      <td>False</td>\n",
              "      <td>True</td>\n",
              "      <td>False</td>\n",
              "      <td>3</td>\n",
              "    </tr>\n",
              "    <tr>\n",
              "      <th>11</th>\n",
              "      <td>vacation</td>\n",
              "      <td>True</td>\n",
              "      <td>True</td>\n",
              "      <td>False</td>\n",
              "      <td>False</td>\n",
              "      <td>False</td>\n",
              "      <td>False</td>\n",
              "      <td>2</td>\n",
              "    </tr>\n",
              "    <tr>\n",
              "      <th>12</th>\n",
              "      <td>duration</td>\n",
              "      <td>False</td>\n",
              "      <td>True</td>\n",
              "      <td>True</td>\n",
              "      <td>False</td>\n",
              "      <td>False</td>\n",
              "      <td>False</td>\n",
              "      <td>2</td>\n",
              "    </tr>\n",
              "    <tr>\n",
              "      <th>13</th>\n",
              "      <td>bereavement-assistance</td>\n",
              "      <td>True</td>\n",
              "      <td>True</td>\n",
              "      <td>False</td>\n",
              "      <td>False</td>\n",
              "      <td>False</td>\n",
              "      <td>False</td>\n",
              "      <td>2</td>\n",
              "    </tr>\n",
              "    <tr>\n",
              "      <th>14</th>\n",
              "      <td>education-allowance</td>\n",
              "      <td>False</td>\n",
              "      <td>False</td>\n",
              "      <td>True</td>\n",
              "      <td>False</td>\n",
              "      <td>False</td>\n",
              "      <td>False</td>\n",
              "      <td>1</td>\n",
              "    </tr>\n",
              "    <tr>\n",
              "      <th>15</th>\n",
              "      <td>cost-of-living-adjustment</td>\n",
              "      <td>False</td>\n",
              "      <td>True</td>\n",
              "      <td>False</td>\n",
              "      <td>False</td>\n",
              "      <td>False</td>\n",
              "      <td>False</td>\n",
              "      <td>1</td>\n",
              "    </tr>\n",
              "    <tr>\n",
              "      <th>16</th>\n",
              "      <td>standby-pay</td>\n",
              "      <td>False</td>\n",
              "      <td>False</td>\n",
              "      <td>False</td>\n",
              "      <td>False</td>\n",
              "      <td>False</td>\n",
              "      <td>False</td>\n",
              "      <td>0</td>\n",
              "    </tr>\n",
              "  </tbody>\n",
              "</table>\n",
              "</div>"
            ],
            "text/plain": [
              "                           Feature  Pearson  ...  LightGBM  Total\n",
              "1         wage-increase-first-year     True  ...      True      6\n",
              "2               statutory-holidays     True  ...     False      5\n",
              "3                          pension     True  ...     False      5\n",
              "4   longterm-disability-assistance     True  ...     False      5\n",
              "5      contribution-to-dental-plan     True  ...     False      5\n",
              "6                    working-hours     True  ...      True      4\n",
              "7         wage-increase-third-year     True  ...      True      4\n",
              "8        wage-increase-second-year     True  ...      True      4\n",
              "9               shift-differential    False  ...      True      3\n",
              "10     contribution-to-health-plan     True  ...     False      3\n",
              "11                        vacation     True  ...     False      2\n",
              "12                        duration    False  ...     False      2\n",
              "13          bereavement-assistance     True  ...     False      2\n",
              "14             education-allowance    False  ...     False      1\n",
              "15       cost-of-living-adjustment    False  ...     False      1\n",
              "16                     standby-pay    False  ...     False      0\n",
              "\n",
              "[16 rows x 8 columns]"
            ]
          },
          "metadata": {
            "tags": []
          },
          "execution_count": 10
        }
      ]
    },
    {
      "cell_type": "markdown",
      "metadata": {
        "id": "gnHj3-CCGQcG",
        "colab_type": "text"
      },
      "source": [
        "# TRAINING PHASE 🏋️"
      ]
    },
    {
      "cell_type": "markdown",
      "metadata": {
        "id": "PtEK4F9vGQcH",
        "colab_type": "text"
      },
      "source": [
        "## Define the Model\n",
        "\n",
        "- We have fixed our data and now we are ready to train our model.   \n",
        "\n",
        "- There are a ton of classifiers to choose from some being [Logistic Regression](https://towardsdatascience.com/logistic-regression-detailed-overview-46c4da4303bc), [SVM](https://towardsdatascience.com/support-vector-machine-introduction-to-machine-learning-algorithms-934a444fca47), [Random Forests](https://towardsdatascience.com/support-vector-machine-introduction-to-machine-learning-algorithms-934a444fca47), [Decision Trees](https://towardsdatascience.com/decision-trees-in-machine-learning-641b9c4e8052), etc.🧐         \n",
        "\n",
        "- Remember that there are no hard-laid rules here. you can mix and match classifiers, it is advisable to read up on the numerous techniques and choose the best fit for your solution , experimentation is the key.     \n",
        "   \n",
        "- A good model does not depend solely on the classifier but also on the features you choose. So make sure to analyse and understand your data well and move forward with a clear view of the problem at hand.  you can gain important insight from [here](https://towardsdatascience.com/the-5-feature-selection-algorithms-every-data-scientist-need-to-know-3a6b566efd2).🧐         "
      ]
    },
    {
      "cell_type": "code",
      "metadata": {
        "id": "IbE9qtvc2mbl",
        "colab_type": "code",
        "colab": {
          "base_uri": "https://localhost:8080/",
          "height": 221
        },
        "outputId": "2d850aed-16a5-43c7-d43e-81f1e1fe7532"
      },
      "source": [
        "# def drop_features(X , feature_selection_df):\n",
        "#   for i in reversed(range (10 , 17)):\n",
        "#     X.drop([str(feature_selection_df['Feature'][i])] , axis=1)\n",
        "#     print(feature_selection_df['Feature'][i])\n",
        "#   print(X.columns)\n",
        "#   return X\n",
        "X_train_m  = X_train\n",
        "for i in range(10 , 17):\n",
        "  X_train_m = X_train_m.drop(feature_selection_df['Feature'][i] , axis=1)\n",
        "\n",
        "# X_train_m = drop_features(X_train , feature_selection_df)\n",
        "X_train_m.head()"
      ],
      "execution_count": 11,
      "outputs": [
        {
          "output_type": "execute_result",
          "data": {
            "text/html": [
              "<div>\n",
              "<style scoped>\n",
              "    .dataframe tbody tr th:only-of-type {\n",
              "        vertical-align: middle;\n",
              "    }\n",
              "\n",
              "    .dataframe tbody tr th {\n",
              "        vertical-align: top;\n",
              "    }\n",
              "\n",
              "    .dataframe thead th {\n",
              "        text-align: right;\n",
              "    }\n",
              "</style>\n",
              "<table border=\"1\" class=\"dataframe\">\n",
              "  <thead>\n",
              "    <tr style=\"text-align: right;\">\n",
              "      <th></th>\n",
              "      <th>wage-increase-first-year</th>\n",
              "      <th>wage-increase-second-year</th>\n",
              "      <th>wage-increase-third-year</th>\n",
              "      <th>working-hours</th>\n",
              "      <th>pension</th>\n",
              "      <th>shift-differential</th>\n",
              "      <th>statutory-holidays</th>\n",
              "      <th>longterm-disability-assistance</th>\n",
              "      <th>contribution-to-dental-plan</th>\n",
              "    </tr>\n",
              "  </thead>\n",
              "  <tbody>\n",
              "    <tr>\n",
              "      <th>6029</th>\n",
              "      <td>6.828763</td>\n",
              "      <td>4.511225</td>\n",
              "      <td>5.0</td>\n",
              "      <td>32.444148</td>\n",
              "      <td>2</td>\n",
              "      <td>4.000000</td>\n",
              "      <td>12.0</td>\n",
              "      <td>1</td>\n",
              "      <td>1</td>\n",
              "    </tr>\n",
              "    <tr>\n",
              "      <th>2937</th>\n",
              "      <td>2.045057</td>\n",
              "      <td>4.000000</td>\n",
              "      <td>5.0</td>\n",
              "      <td>40.000000</td>\n",
              "      <td>2</td>\n",
              "      <td>10.450791</td>\n",
              "      <td>11.0</td>\n",
              "      <td>1</td>\n",
              "      <td>1</td>\n",
              "    </tr>\n",
              "    <tr>\n",
              "      <th>16186</th>\n",
              "      <td>3.330269</td>\n",
              "      <td>3.507451</td>\n",
              "      <td>5.0</td>\n",
              "      <td>33.365945</td>\n",
              "      <td>2</td>\n",
              "      <td>-2.900453</td>\n",
              "      <td>11.0</td>\n",
              "      <td>1</td>\n",
              "      <td>0</td>\n",
              "    </tr>\n",
              "    <tr>\n",
              "      <th>13762</th>\n",
              "      <td>2.048843</td>\n",
              "      <td>4.000000</td>\n",
              "      <td>5.0</td>\n",
              "      <td>40.000000</td>\n",
              "      <td>2</td>\n",
              "      <td>3.000000</td>\n",
              "      <td>13.0</td>\n",
              "      <td>0</td>\n",
              "      <td>1</td>\n",
              "    </tr>\n",
              "    <tr>\n",
              "      <th>21264</th>\n",
              "      <td>3.691248</td>\n",
              "      <td>4.000000</td>\n",
              "      <td>5.0</td>\n",
              "      <td>37.956569</td>\n",
              "      <td>2</td>\n",
              "      <td>3.000000</td>\n",
              "      <td>15.0</td>\n",
              "      <td>1</td>\n",
              "      <td>1</td>\n",
              "    </tr>\n",
              "  </tbody>\n",
              "</table>\n",
              "</div>"
            ],
            "text/plain": [
              "       wage-increase-first-year  ...  contribution-to-dental-plan\n",
              "6029                   6.828763  ...                            1\n",
              "2937                   2.045057  ...                            1\n",
              "16186                  3.330269  ...                            0\n",
              "13762                  2.048843  ...                            1\n",
              "21264                  3.691248  ...                            1\n",
              "\n",
              "[5 rows x 9 columns]"
            ]
          },
          "metadata": {
            "tags": []
          },
          "execution_count": 11
        }
      ]
    },
    {
      "cell_type": "code",
      "metadata": {
        "id": "x_A3uyAhGQcH",
        "colab_type": "code",
        "colab": {}
      },
      "source": [
        "# classifier = SVC(gamma='auto',max_iter=5)\n",
        "classifier = MLPClassifier(hidden_layer_sizes=(129,36,), max_iter=750 , learning_rate='adaptive')\n",
        "#from sklearn.linear_model import LogisticRegression\n",
        "# classifier = LogisticRegression()"
      ],
      "execution_count": 18,
      "outputs": []
    },
    {
      "cell_type": "markdown",
      "metadata": {
        "id": "JWctVUvIGQcL",
        "colab_type": "text"
      },
      "source": [
        "- To start you off, We have used a basic [Support Vector Machines](https://scikit-learn.org/stable/modules/svm.html#classification) classifier here.    \n",
        "- But you can tune parameters and increase the performance. To see the list of parameters visit [here](https://scikit-learn.org/stable/modules/generated/sklearn.svm.SVC.html).   \n",
        "- Do keep in mind there exist sophisticated techniques for everything, the key as quoted earlier is to search them and experiment to fit your implementation."
      ]
    },
    {
      "cell_type": "markdown",
      "metadata": {
        "id": "g5hX7MM3GQcM",
        "colab_type": "text"
      },
      "source": [
        "To read more about other sklearn classifiers visit [here 🧐](https://scikit-learn.org/stable/supervised_learning.html). Try and use other classifiers to see how the performance of your model changes. Try using [Logistic Regression](https://scikit-learn.org/stable/modules/generated/sklearn.linear_model.LogisticRegression.html) or [MLP](http://scikit-learn.org/stable/modules/generated/sklearn.neural_network.MLPClassifier.html) and compare how the performance changes."
      ]
    },
    {
      "cell_type": "markdown",
      "metadata": {
        "id": "Gqqro72aGQcN",
        "colab_type": "text"
      },
      "source": [
        "## Train the classifier"
      ]
    },
    {
      "cell_type": "code",
      "metadata": {
        "id": "lbh8qxPZGQcN",
        "colab_type": "code",
        "colab": {
          "base_uri": "https://localhost:8080/",
          "height": 153
        },
        "outputId": "2ad5148f-c501-4680-d269-436f8f328eb0"
      },
      "source": [
        "classifier.fit(X_train, y_train)"
      ],
      "execution_count": 19,
      "outputs": [
        {
          "output_type": "execute_result",
          "data": {
            "text/plain": [
              "MLPClassifier(activation='relu', alpha=0.0001, batch_size='auto', beta_1=0.9,\n",
              "              beta_2=0.999, early_stopping=False, epsilon=1e-08,\n",
              "              hidden_layer_sizes=(129, 36), learning_rate='adaptive',\n",
              "              learning_rate_init=0.001, max_fun=15000, max_iter=750,\n",
              "              momentum=0.9, n_iter_no_change=10, nesterovs_momentum=True,\n",
              "              power_t=0.5, random_state=None, shuffle=True, solver='adam',\n",
              "              tol=0.0001, validation_fraction=0.1, verbose=False,\n",
              "              warm_start=False)"
            ]
          },
          "metadata": {
            "tags": []
          },
          "execution_count": 19
        }
      ]
    },
    {
      "cell_type": "markdown",
      "metadata": {
        "id": "yE1ggRWuGQcR",
        "colab_type": "text"
      },
      "source": [
        "Got a warning! Dont worry, its just beacuse the number of iteration is very less(defined in the classifier in the above cell).Increase the number of iterations and see if the warning vanishes and also see how the performance changes.Do remember increasing iterations also increases the running time.( Hint: max_iter=500)"
      ]
    },
    {
      "cell_type": "markdown",
      "metadata": {
        "id": "lfaC06K8GQcS",
        "colab_type": "text"
      },
      "source": [
        "# Validation Phase 🤔\n",
        "Wonder how well your model learned! Lets check it."
      ]
    },
    {
      "cell_type": "markdown",
      "metadata": {
        "id": "dQWl5WyfGQcS",
        "colab_type": "text"
      },
      "source": [
        "## Predict on Validation\n",
        "\n",
        "Now we predict using our trained model on the validation set we created and evaluate our model on unforeseen data."
      ]
    },
    {
      "cell_type": "code",
      "metadata": {
        "id": "HKvmm9XrGQcT",
        "colab_type": "code",
        "colab": {}
      },
      "source": [
        "y_pred = classifier.predict(X_val)"
      ],
      "execution_count": 20,
      "outputs": []
    },
    {
      "cell_type": "markdown",
      "metadata": {
        "id": "4D3DJbuSGQcW",
        "colab_type": "text"
      },
      "source": [
        "## Evaluate the Performance\n",
        "\n",
        "- We have used basic metrics to quantify the performance of our model.  \n",
        "- This is a crucial step, you should reason out the metrics and take hints to improve aspects of your model.\n",
        "- Do read up on the meaning and use of different metrics. there exist more metrics and measures, you should learn to use them correctly with respect to the solution,dataset and other factors. \n",
        "- [F1 score](https://en.wikipedia.org/wiki/F1_score) are the metrics for this challenge"
      ]
    },
    {
      "cell_type": "code",
      "metadata": {
        "id": "_XgpfQ3hGQcX",
        "colab_type": "code",
        "colab": {}
      },
      "source": [
        "precision = precision_score(y_val,y_pred,average='micro')\n",
        "recall = recall_score(y_val,y_pred,average='micro')\n",
        "accuracy = accuracy_score(y_val,y_pred)\n",
        "f1 = f1_score(y_val,y_pred,average='macro')"
      ],
      "execution_count": 21,
      "outputs": []
    },
    {
      "cell_type": "code",
      "metadata": {
        "scrolled": true,
        "id": "aPpbuSMXGQca",
        "colab_type": "code",
        "colab": {
          "base_uri": "https://localhost:8080/",
          "height": 85
        },
        "outputId": "8e4d4938-2b87-4a7c-afda-717492c4e6db"
      },
      "source": [
        "print(\"Accuracy of the model is :\" ,accuracy)\n",
        "print(\"Recall of the model is :\" ,recall)\n",
        "print(\"Precision of the model is :\" ,precision)\n",
        "print(\"F1 score of the model is :\" ,f1)"
      ],
      "execution_count": 22,
      "outputs": [
        {
          "output_type": "stream",
          "text": [
            "Accuracy of the model is : 0.95828125\n",
            "Recall of the model is : 0.95828125\n",
            "Precision of the model is : 0.95828125\n",
            "F1 score of the model is : 0.9536298218859263\n"
          ],
          "name": "stdout"
        }
      ]
    },
    {
      "cell_type": "markdown",
      "metadata": {
        "id": "qG8chlZAGQcd",
        "colab_type": "text"
      },
      "source": [
        "# Testing Phase 😅\n",
        "\n",
        "We are almost done. We trained and validated on the training data. Now its the time to predict on test set and make a submission."
      ]
    },
    {
      "cell_type": "markdown",
      "metadata": {
        "id": "Ei4jRTeLGQce",
        "colab_type": "text"
      },
      "source": [
        "## Load Test Set\n",
        "\n",
        "Load the test data on which final submission is to be made."
      ]
    },
    {
      "cell_type": "code",
      "metadata": {
        "id": "X77NQD-nGQcf",
        "colab_type": "code",
        "colab": {}
      },
      "source": [
        "final_test_path = \"data/test.csv\"\n",
        "final_test = pd.read_csv(final_test_path)"
      ],
      "execution_count": null,
      "outputs": []
    },
    {
      "cell_type": "markdown",
      "metadata": {
        "id": "Rg5jfh8UGQci",
        "colab_type": "text"
      },
      "source": [
        "## Predict Test Set\n",
        "Time for the moment of truth! Predict on test set and time to make the submission."
      ]
    },
    {
      "cell_type": "code",
      "metadata": {
        "id": "B1dDTluVGQcj",
        "colab_type": "code",
        "colab": {}
      },
      "source": [
        "submission = classifier.predict(final_test)"
      ],
      "execution_count": null,
      "outputs": []
    },
    {
      "cell_type": "markdown",
      "metadata": {
        "id": "TrMxoJ59GQcm",
        "colab_type": "text"
      },
      "source": [
        "## Save the prediction to csv"
      ]
    },
    {
      "cell_type": "code",
      "metadata": {
        "id": "2NJ2MCBrGQcm",
        "colab_type": "code",
        "colab": {}
      },
      "source": [
        "#change the header according to the submission guidelines"
      ],
      "execution_count": null,
      "outputs": []
    },
    {
      "cell_type": "code",
      "metadata": {
        "id": "AM6AJocNGQcp",
        "colab_type": "code",
        "colab": {}
      },
      "source": [
        "submission = pd.DataFrame(submission)\n",
        "submission.to_csv('/tmp/submission.csv',header=['class'],index=False)"
      ],
      "execution_count": null,
      "outputs": []
    },
    {
      "cell_type": "markdown",
      "metadata": {
        "id": "UDIEH6toGQcs",
        "colab_type": "text"
      },
      "source": [
        "🚧 Note :    \n",
        "- Do take a look at the submission format.   \n",
        "- The submission file should contain a header.   \n",
        "- Follow all submission guidelines strictly to avoid inconvenience."
      ]
    },
    {
      "cell_type": "markdown",
      "metadata": {
        "id": "HtTjvDVoGQcs",
        "colab_type": "text"
      },
      "source": [
        "## To download the generated csv in colab run the below command"
      ]
    },
    {
      "cell_type": "code",
      "metadata": {
        "id": "Bl3Nm0yUGQct",
        "colab_type": "code",
        "colab": {}
      },
      "source": [
        "try:\n",
        "  from google.colab import files\n",
        "  files.download('submission.csv')\n",
        "except ImportError as e:\n",
        "  print(\"Only for Collab\") "
      ],
      "execution_count": null,
      "outputs": []
    },
    {
      "cell_type": "markdown",
      "metadata": {
        "id": "vuurG9oSGQcv",
        "colab_type": "text"
      },
      "source": [
        "### Well Done! 👍 We are all set to make a submission and see your name on leaderborad. Let navigate to [challenge page](https://www.aicrowd.com/challenges/labor) and make one."
      ]
    }
  ]
}